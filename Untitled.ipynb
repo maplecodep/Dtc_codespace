{
 "cells": [
  {
   "cell_type": "code",
   "execution_count": null,
   "id": "536c5f48-11a5-4570-90ec-351a031a6e5e",
   "metadata": {},
   "outputs": [],
   "source": [
    "print(\"hello world\")"
   ]
  }
 ],
 "metadata": {
  "kernelspec": {
   "display_name": "",
   "name": ""
  },
  "language_info": {
   "name": ""
  }
 },
 "nbformat": 4,
 "nbformat_minor": 5
}
